{
 "metadata": {
  "language_info": {
   "codemirror_mode": {
    "name": "ipython",
    "version": 3
   },
   "file_extension": ".py",
   "mimetype": "text/x-python",
   "name": "python",
   "nbconvert_exporter": "python",
   "pygments_lexer": "ipython3",
   "version": "3.7.7-final"
  },
  "orig_nbformat": 2,
  "kernelspec": {
   "name": "Python 3.7.7 64-bit ('anaconda3': conda)",
   "display_name": "Python 3.7.7 64-bit ('anaconda3': conda)",
   "metadata": {
    "interpreter": {
     "hash": "6c03733f887ef21fbe0f240902c4a619cd92f5ab72ba254b59a7f0b51984db09"
    }
   }
  }
 },
 "nbformat": 4,
 "nbformat_minor": 2,
 "cells": [
  {
   "cell_type": "code",
   "execution_count": 1,
   "metadata": {},
   "outputs": [],
   "source": [
    "import numpy as np\n",
    "import pandas as pd"
   ]
  },
  {
   "cell_type": "code",
   "execution_count": 6,
   "metadata": {},
   "outputs": [],
   "source": [
    "data = pd.read_csv('../input/CAR DETAILS FROM CAR DEKHO.csv')"
   ]
  },
  {
   "cell_type": "code",
   "execution_count": 7,
   "metadata": {},
   "outputs": [
    {
     "output_type": "execute_result",
     "data": {
      "text/plain": "                       name  year  selling_price  km_driven    fuel  \\\n0             Maruti 800 AC  2007          60000      70000  Petrol   \n1  Maruti Wagon R LXI Minor  2007         135000      50000  Petrol   \n2      Hyundai Verna 1.6 SX  2012         600000     100000  Diesel   \n3    Datsun RediGO T Option  2017         250000      46000  Petrol   \n4     Honda Amaze VX i-DTEC  2014         450000     141000  Diesel   \n\n  seller_type transmission         owner  \n0  Individual       Manual   First Owner  \n1  Individual       Manual   First Owner  \n2  Individual       Manual   First Owner  \n3  Individual       Manual   First Owner  \n4  Individual       Manual  Second Owner  ",
      "text/html": "<div>\n<style scoped>\n    .dataframe tbody tr th:only-of-type {\n        vertical-align: middle;\n    }\n\n    .dataframe tbody tr th {\n        vertical-align: top;\n    }\n\n    .dataframe thead th {\n        text-align: right;\n    }\n</style>\n<table border=\"1\" class=\"dataframe\">\n  <thead>\n    <tr style=\"text-align: right;\">\n      <th></th>\n      <th>name</th>\n      <th>year</th>\n      <th>selling_price</th>\n      <th>km_driven</th>\n      <th>fuel</th>\n      <th>seller_type</th>\n      <th>transmission</th>\n      <th>owner</th>\n    </tr>\n  </thead>\n  <tbody>\n    <tr>\n      <th>0</th>\n      <td>Maruti 800 AC</td>\n      <td>2007</td>\n      <td>60000</td>\n      <td>70000</td>\n      <td>Petrol</td>\n      <td>Individual</td>\n      <td>Manual</td>\n      <td>First Owner</td>\n    </tr>\n    <tr>\n      <th>1</th>\n      <td>Maruti Wagon R LXI Minor</td>\n      <td>2007</td>\n      <td>135000</td>\n      <td>50000</td>\n      <td>Petrol</td>\n      <td>Individual</td>\n      <td>Manual</td>\n      <td>First Owner</td>\n    </tr>\n    <tr>\n      <th>2</th>\n      <td>Hyundai Verna 1.6 SX</td>\n      <td>2012</td>\n      <td>600000</td>\n      <td>100000</td>\n      <td>Diesel</td>\n      <td>Individual</td>\n      <td>Manual</td>\n      <td>First Owner</td>\n    </tr>\n    <tr>\n      <th>3</th>\n      <td>Datsun RediGO T Option</td>\n      <td>2017</td>\n      <td>250000</td>\n      <td>46000</td>\n      <td>Petrol</td>\n      <td>Individual</td>\n      <td>Manual</td>\n      <td>First Owner</td>\n    </tr>\n    <tr>\n      <th>4</th>\n      <td>Honda Amaze VX i-DTEC</td>\n      <td>2014</td>\n      <td>450000</td>\n      <td>141000</td>\n      <td>Diesel</td>\n      <td>Individual</td>\n      <td>Manual</td>\n      <td>Second Owner</td>\n    </tr>\n  </tbody>\n</table>\n</div>"
     },
     "metadata": {},
     "execution_count": 7
    }
   ],
   "source": [
    "data.head()"
   ]
  },
  {
   "cell_type": "code",
   "execution_count": 9,
   "metadata": {},
   "outputs": [
    {
     "output_type": "execute_result",
     "data": {
      "text/plain": "array([&#39;Petrol&#39;, &#39;Diesel&#39;, &#39;CNG&#39;, &#39;LPG&#39;, &#39;Electric&#39;], dtype=object)"
     },
     "metadata": {},
     "execution_count": 9
    }
   ],
   "source": [
    "data.fuel.unique()"
   ]
  },
  {
   "cell_type": "code",
   "execution_count": 10,
   "metadata": {},
   "outputs": [
    {
     "output_type": "execute_result",
     "data": {
      "text/plain": "array([&#39;Individual&#39;, &#39;Dealer&#39;, &#39;Trustmark Dealer&#39;], dtype=object)"
     },
     "metadata": {},
     "execution_count": 10
    }
   ],
   "source": [
    "data.seller_type.unique()"
   ]
  },
  {
   "cell_type": "code",
   "execution_count": 11,
   "metadata": {},
   "outputs": [
    {
     "output_type": "execute_result",
     "data": {
      "text/plain": "array([&#39;Manual&#39;, &#39;Automatic&#39;], dtype=object)"
     },
     "metadata": {},
     "execution_count": 11
    }
   ],
   "source": [
    "data.transmission.unique()"
   ]
  },
  {
   "cell_type": "code",
   "execution_count": 12,
   "metadata": {},
   "outputs": [
    {
     "output_type": "execute_result",
     "data": {
      "text/plain": "array([&#39;First Owner&#39;, &#39;Second Owner&#39;, &#39;Fourth &amp; Above Owner&#39;,\n       &#39;Third Owner&#39;, &#39;Test Drive Car&#39;], dtype=object)"
     },
     "metadata": {},
     "execution_count": 12
    }
   ],
   "source": [
    "data.owner.unique()"
   ]
  },
  {
   "cell_type": "code",
   "execution_count": null,
   "metadata": {},
   "outputs": [],
   "source": []
  }
 ]
}